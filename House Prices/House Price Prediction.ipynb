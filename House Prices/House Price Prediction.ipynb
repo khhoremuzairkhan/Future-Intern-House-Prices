{
 "cells": [
  {
   "cell_type": "markdown",
   "id": "ccec7a95-5333-4cd7-a7ce-182fd9f95a60",
   "metadata": {},
   "source": [
    "## House Prediction Analysis"
   ]
  },
  {
   "cell_type": "code",
   "execution_count": null,
   "id": "a0c8eb6d-be97-4457-9d43-a253ac30e138",
   "metadata": {},
   "outputs": [],
   "source": []
  }
 ],
 "metadata": {
  "kernelspec": {
   "display_name": "Python 3 (ipykernel)",
   "language": "python",
   "name": "python3"
  },
  "language_info": {
   "codemirror_mode": {
    "name": "ipython",
    "version": 3
   },
   "file_extension": ".py",
   "mimetype": "text/x-python",
   "name": "python",
   "nbconvert_exporter": "python",
   "pygments_lexer": "ipython3",
   "version": "3.12.4"
  }
 },
 "nbformat": 4,
 "nbformat_minor": 5
}
